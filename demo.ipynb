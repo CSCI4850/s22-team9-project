{
 "cells": [
  {
   "cell_type": "markdown",
   "id": "fe1c7b57-170b-4819-90ce-63b176a6d275",
   "metadata": {},
   "source": [
    "<h2> Neural Network Music Generation"
   ]
  },
  {
   "cell_type": "markdown",
   "id": "ec11ee43-0593-4866-9974-34733ccd776c",
   "metadata": {},
   "source": [
    "**INTRO *Evan"
   ]
  },
  {
   "cell_type": "markdown",
   "id": "5d144e75-b64f-4e4c-93fc-c30fecd87def",
   "metadata": {},
   "source": [
    "<h4> Recurrent Neural Networks vs. General Adversarial Networks"
   ]
  },
  {
   "cell_type": "markdown",
   "id": "73b181b7-da9f-4099-a8fa-6f2576f225f5",
   "metadata": {},
   "source": [
    "Below we present two deep learning methods for generating music: *Recurrent Neural Networks* (RNN) and *General Adversarial Networks* (GAN). We will explore the basic concepts of RNN and GNN to generate music. <br> <br>\n",
    "But before we begin, we will import some helpul packages and tools to accomplish these tasks. "
   ]
  },
  {
   "cell_type": "code",
   "execution_count": null,
   "id": "1dd833fd-046c-41aa-bab9-47b142373c41",
   "metadata": {},
   "outputs": [],
   "source": [
    "import os\n",
    "import collections\n",
    "import datetime\n",
    "import glob\n",
    "import numpy as np\n",
    "import pathlib\n",
    "import pandas as pd\n",
    "from typing import Dict, List, Optional, Sequence, Tuple\n",
    "\n",
    "#MIIDI file processing tools\n",
    "import pretty_midi\n",
    "import seaborn as sns\n",
    "import fluidsynth\n",
    "\n",
    "#Neural Network Tools\n",
    "import tensorflow as tf\n",
    "from keras.preprocessing import image\n",
    "from keras.applications.xception import preprocess_input, decode_predictions\n",
    "import tensorflow.keras as keras\n",
    "import tensorflow.keras.backend as K\n",
    "from keras.utils.vis_utils import model_to_dot\n",
    "\n",
    "#Plotting Tools\n",
    "import matplotlib.pyplot as plt\n",
    "%matplotlib inline\n",
    "from IPython.display import display\n",
    "from keras.utils.vis_utils import plot_model"
   ]
  },
  {
   "cell_type": "markdown",
   "id": "4fa666ef-fb6a-4c3e-bef5-4f8dd056412d",
   "metadata": {},
   "source": [
    "<h3> Recurrent Neural Network (RNN)"
   ]
  },
  {
   "cell_type": "raw",
   "id": "1daef584-1c4f-4533-9c3a-1534ce3fb202",
   "metadata": {},
   "source": [
    "- explain what the RNN is trying to do (how it works) (Louis)\n",
    "                - BRIEF intro to RNN structure\n",
    "                        - example midi file played\n",
    "                        - explain wHAT we are trying to do (i.e the losses we are trying to minimize\n",
    "                                                                                        (pitch/step/duration)\n",
    "                - load up the trained model\n",
    "                - show the structure of the trained model\n",
    "                - generate a new song with the model"
   ]
  },
  {
   "cell_type": "markdown",
   "id": "a6ef04ac-729d-4e0d-b176-8f291bed2a22",
   "metadata": {},
   "source": [
    "<h3> General Adversarial Neural Network (GAN)"
   ]
  },
  {
   "cell_type": "raw",
   "id": "eb87b706-2dbc-4730-96cb-f0686523a668",
   "metadata": {},
   "source": [
    "- explain what the GAN is trying to do (how it works) \n",
    "                        - BRIEF intro to GAN structure (Emily)\n",
    "                        - link the git hub to generate iamges from midis (Emily)\n",
    "                        - show an example training image (or multiple) (Emily)\n",
    "                        - explain WHAT we are trying to do with the GAN (Emily)\n",
    "                - load up the trained model (Jason)\n",
    "                - show the structure of the trained model (Jason)\n",
    "                - generate a new image with the model (Jason) "
   ]
  },
  {
   "cell_type": "code",
   "execution_count": null,
   "id": "43fd3d39-14e0-4897-85f4-73451f0c780b",
   "metadata": {},
   "outputs": [],
   "source": []
  }
 ],
 "metadata": {
  "kernelspec": {
   "display_name": "Python 3 (ipykernel)",
   "language": "python",
   "name": "python3"
  },
  "language_info": {
   "codemirror_mode": {
    "name": "ipython",
    "version": 3
   },
   "file_extension": ".py",
   "mimetype": "text/x-python",
   "name": "python",
   "nbconvert_exporter": "python",
   "pygments_lexer": "ipython3",
   "version": "3.9.7"
  }
 },
 "nbformat": 4,
 "nbformat_minor": 5
}
