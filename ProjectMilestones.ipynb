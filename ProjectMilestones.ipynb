{
 "cells": [
  {
   "cell_type": "markdown",
   "id": "0b914f8a-5f30-441d-b0be-8381d567c709",
   "metadata": {},
   "source": [
    "## Team 9– Alcove: **Music Generation with Neural Networks**"
   ]
  },
  {
   "cell_type": "markdown",
   "id": "776421f7-609b-49ad-a53e-f58f8d080fde",
   "metadata": {},
   "source": [
    "**Group Members:**\n",
    "_Evan Kubick, Louis Lizzadro, Joseph May, Jason Miller, and Emily Musselman_"
   ]
  },
  {
   "cell_type": "markdown",
   "id": "dc67dc44-708d-4aab-aa7c-324a6ecc8c43",
   "metadata": {},
   "source": [
    "   "
   ]
  },
  {
   "cell_type": "markdown",
   "id": "a00cfa33-c7d5-4c44-9669-31cbbef2b09f",
   "metadata": {},
   "source": [
    "### **Project Milestone 1**\n",
    "3/14/2022"
   ]
  },
  {
   "cell_type": "markdown",
   "id": "52c07417-6630-451e-9816-4d58e175139d",
   "metadata": {},
   "source": [
    "| Deliverable | Percent Complete | Estimated Completion Date | Percent Complete by Next Milestone|\n",
    "|:----------- |:---------------- |:------------------------- |:--------------------------------- |\n",
    "| Code | 0% | Apr. 13 | 5% |\n",
    "| Demo | 0% | Apr. 22 | 0% |\n",
    "| Presentation | 0% | May 3 | 10% |"
   ]
  },
  {
   "cell_type": "markdown",
   "id": "b83577e4-8fa8-4a6c-a633-12a244e2ba4d",
   "metadata": {},
   "source": [
    "1. N/A - No goals were set for this milestone report. \n",
    "2. N/A - No goals were set for this milestone report. \n",
    "3. Before the next milestone report, Joesph will create a skeleton of the powerpoint for our presentation. Evan will research how to convert song data into a MIDI file format. Emily will perform data analysis on the existing found data sets and merge the seperate sets. Finally, the entirety of the team (Evan, Louis, Joseph, Jason, and Emily) will complete a keras tutorial on creating a Recurrent Neural Network to generate music and prepare for a meeting later in the week. "
   ]
  },
  {
   "cell_type": "markdown",
   "id": "58914fd9-da5b-4352-a9b2-271165a54073",
   "metadata": {},
   "source": [
    "    "
   ]
  },
  {
   "cell_type": "markdown",
   "id": "4f2a423e-accb-4107-a7d0-1150c930e21d",
   "metadata": {},
   "source": [
    "### **Project Milestone 2**\n",
    "3/21/2022"
   ]
  },
  {
   "cell_type": "markdown",
   "id": "e09464d7-4cb0-4567-af97-8cb4bbcd9c24",
   "metadata": {},
   "source": [
    "| Deliverable | Percent Complete | Estimated Completion Date | Percent Complete by Next Milestone|\n",
    "|:----------- |:---------------- |:------------------------- |:--------------------------------- |\n",
    "| Code | 5% | Apr. 13 | 15% |\n",
    "| Demo | 0% | Apr. 22 | 5% |\n",
    "| Presentation | 10% | May 3 | 10% |"
   ]
  },
  {
   "cell_type": "markdown",
   "id": "892f4e79-2a1f-4023-b769-fd452190a240",
   "metadata": {},
   "source": [
    "1. All deliverable goals from the previous week were met for this milestone. All group members completed the keras tutorial on generating music with a Recurrent Neural Network, Emily compiled and merged the data sets, Evan researched how to convert song data into a MIDI file format, and Joseph finished the skeleton of the powerpoint presentation. \n",
    "2. N/A - All goals were met for this milestone report.\n",
    "3. Before the next milestone report, Evan will analyze the songs within the dataset and sort the song data into specific instruments, Louis will construct a skeleton of the neural network that we wish to build, Emily will begin working on the demo, and Joseph and Jason will locate the data for the Billboard Top 100 Pop songs and work on conversion to the MIDI format. "
   ]
  },
  {
   "cell_type": "markdown",
   "id": "59351f8a-9527-465a-8f34-6f8275e76d68",
   "metadata": {},
   "source": [
    "        "
   ]
  },
  {
   "cell_type": "markdown",
   "id": "444bf47c-2e10-4995-8814-e29aa45d0c2a",
   "metadata": {},
   "source": [
    "### **Project Milestone 3**\n",
    "3/28/2022"
   ]
  },
  {
   "cell_type": "markdown",
   "id": "294d9ed0-b0a6-4232-abcc-d8d5b0ca19b4",
   "metadata": {},
   "source": [
    "| Deliverable | Percent Complete | Estimated Completion Date | Percent Complete by Next Milestone|\n",
    "|:----------- |:---------------- |:------------------------- |:--------------------------------- |\n",
    "| Code | 15% | Apr. 13 | 25% |\n",
    "| Demo | 5% | Apr. 22 | 10% |\n",
    "| Presentation | 10% | May 3 | 10% |"
   ]
  },
  {
   "cell_type": "markdown",
   "id": "ef1272d7-3848-4314-887b-9dae1f3aafab",
   "metadata": {},
   "source": [
    "1. All deliverable goals from the previous week were met for this milestone. Evan analyzed the songs within the dataset, Louis constructed a skeleton of the neural network, Emily began working on the demo and completed setup instructions, and Joseph and Jason located the data for the Billboard Top 100 Pop songs, converted mp3s to midi files, and pushed the data to the github.\n",
    "2. N/A - All goals were met for this milestone report. \n",
    "3. Before the next milestone report, Louis will do research on using a Generative Adversarial Net for music generation for comparison to the RNN and all remaining group members (Evan, Joseph, Jason, and Emily) will review the skeleton code of the RNN and experiment with the hyperparameters to improve the quality of the output. Additionally, Joseph will continue work on demo and add information for converting mp3 data into midi files. "
   ]
  },
  {
   "cell_type": "markdown",
   "id": "85d5a85c-70a2-4685-ba0a-dabac6e3fab0",
   "metadata": {},
   "source": [
    "   "
   ]
  },
  {
   "cell_type": "markdown",
   "id": "bacae60b-3303-4750-87cf-9844be08ef5d",
   "metadata": {},
   "source": [
    "### **Project Milestone 4**\n",
    "4/4/2022"
   ]
  },
  {
   "cell_type": "markdown",
   "id": "e114efee-1da0-4d7d-a400-144c179c57fc",
   "metadata": {},
   "source": [
    "| Deliverable | Percent Complete | Estimated Completion Date | Percent Complete by Next Milestone|\n",
    "|:----------- |:---------------- |:------------------------- |:--------------------------------- |\n",
    "| Code | 30% | Apr. 22 | 50% |\n",
    "| Demo | 10% | Apr. 27 | 10% |\n",
    "| Presentation | 10% | May 3 | 10% |"
   ]
  },
  {
   "cell_type": "markdown",
   "id": "7836f060-ddc4-4787-b4fc-8200b6c91183",
   "metadata": {},
   "source": [
    "1. All deliverable goals from the previous week were met for this milestone. Louis researched GAN for music generation, Joseph updated the README.md, and all group members continued hyperparameter adjustment for the existing RNN architecture. Additionally, the code completion date was pushed back a week and team members discussed adjusting the project goals to be a comparison study between GAN vs. RNN for music generation. \n",
    "2. N/A - All goals were met for this milestone report. \n",
    "3. Before the next milestone report, all group members (Evan, Louis, Joseph, Jason, and Emily) will work on building a basic GAN network for music generation that produces some output. Additionally, all group members will expand on the current RNN by adding residual connections and layering LSTMs. By the end of the week, we hope to have a basic GAN network pushed to the github. "
   ]
  },
  {
   "cell_type": "markdown",
   "id": "519ec6ba-28ad-4290-b505-550b3158f37a",
   "metadata": {},
   "source": [
    "<br>"
   ]
  },
  {
   "cell_type": "markdown",
   "id": "8974997e-1469-4d0d-91b8-49f5ebbd970c",
   "metadata": {},
   "source": [
    "### **Project Milestone 5**\n",
    "4/11/2022"
   ]
  },
  {
   "cell_type": "markdown",
   "id": "f2b5b081-c004-45a7-9830-b3a6c59da0fd",
   "metadata": {},
   "source": [
    "| Deliverable | Percent Complete | Estimated Completion Date | Percent Complete by Next Milestone|\n",
    "|:----------- |:---------------- |:------------------------- |:--------------------------------- |\n",
    "| Code | 40% | Apr. 22 | 60% |\n",
    "| Demo | 10% | Apr. 27 | 10% |\n",
    "| Presentation | 10% | May 3 | 15% |"
   ]
  },
  {
   "cell_type": "markdown",
   "id": "9220fbb0-2c2f-476a-bd3d-c59584de5868",
   "metadata": {},
   "source": [
    "1. A few of our goals from the previous week were met for this milestone, Louis expanded on the current RNN by adding residual connections and layering LSTMs, and other group members began work on building a basic GAN network for music generation. <br>\n",
    "2. For the last milestone, we stated that we wanted to have a basic GAN network for music generation pushed to the github, but we did not achieve this goal last week. \n",
    "3. For the next milestone report, all group memebers will work torward getting the GAN network working and outputing (Evan, Joseph, Emily, Jason, Louis), Louis will continue tuning the RNN, and Jason will work on editing the presentation to reflect the new project goals. "
   ]
  },
  {
   "cell_type": "markdown",
   "id": "2ac76bf7-ff11-43e0-b829-f50a41b39186",
   "metadata": {},
   "source": [
    "   "
   ]
  },
  {
   "cell_type": "markdown",
   "id": "6afca3b5-bfc8-468b-9439-a59dd86f1822",
   "metadata": {},
   "source": [
    "### **Project Milestone 6**\n",
    "4/18/2022"
   ]
  },
  {
   "cell_type": "markdown",
   "id": "88fd236f-b40f-4758-a095-98f1445cb151",
   "metadata": {},
   "source": [
    "| Deliverable | Percent Complete | Estimated Completion Date | Percent Complete by Next Milestone|\n",
    "|:----------- |:---------------- |:------------------------- |:--------------------------------- |\n",
    "| Code | 75% | Apr. 22 | 95% |\n",
    "| Demo | 30% | Apr. 27 | 40% |\n",
    "| Presentation | 40% | May 3 | 50% |"
   ]
  },
  {
   "cell_type": "markdown",
   "id": "3a0e71a2-bed7-4afe-9766-0ce5c6f3f79d",
   "metadata": {},
   "source": [
    "1. All deliverable goals from the previous week were met for this milestone. All group members worked torward getting the GAN network working and outputing (Evan, Joseph, Emily, Jason), Louis continued working on the RNN by trying additional structures and residual conditions, and Jason and Joseph made the appropriate changes and additions to the project presentation. Additionally, Emily pushed her version of the working GAN to the github. \n",
    "2. N/A - All goals were met for this milestone. \n",
    "3. Before the next milestone report, all group members will work on making final improvements to the created networks (Evan, Joseph, Emily, Jason, Louis). Additionally, we will add more content to the presentation to reflect the methods for the GAN network."
   ]
  },
  {
   "cell_type": "markdown",
   "id": "072839ea-eddd-4781-aa34-203403bbc7ac",
   "metadata": {},
   "source": [
    "### **Project Milestone 7**\n",
    "4/25/2022"
   ]
  },
  {
   "cell_type": "markdown",
   "id": "78beffbe-117c-47bd-bf21-bedcc92aa6f5",
   "metadata": {},
   "source": [
    "| Deliverable | Percent Complete | Estimated Completion Date | Percent Complete by Next Milestone|\n",
    "|:----------- |:---------------- |:------------------------- |:--------------------------------- |\n",
    "| Code | 90% | Apr. 22 | 100% |\n",
    "| Demo | 40% | Apr. 27 | 100% |\n",
    "| Presentation | 50% | May 2 | 100% |"
   ]
  },
  {
   "cell_type": "markdown",
   "id": "5657454e-f7fe-4c04-9c4c-ecf2a06f0861",
   "metadata": {},
   "source": [
    "1. All deliverable goals from the previous week were met for this milestone. All group members worked on making improvements to the created network. Additionally, the presentation was updated to reflect the methods for the GAN network. \n",
    "2. N/A - All all goals were met for this milestone.\n",
    "3. For the final week of the project, all group members will work to clean up the github (removing extraneous data, renaming files, organizing folders, etc). Emily and Louis will generate final musical compositions from the GAN and RNN respectively. Evan, Emily, Louis, and Jason will work on finishing the demo. Finally, Joseph will finish up correcting any remaining issues with the README. The entirety of the project should be ready to present by May 2."
   ]
  }
 ],
 "metadata": {
  "kernelspec": {
   "display_name": "Python 3 (ipykernel)",
   "language": "python",
   "name": "python3"
  },
  "language_info": {
   "codemirror_mode": {
    "name": "ipython",
    "version": 3
   },
   "file_extension": ".py",
   "mimetype": "text/x-python",
   "name": "python",
   "nbconvert_exporter": "python",
   "pygments_lexer": "ipython3",
   "version": "3.9.7"
  }
 },
 "nbformat": 4,
 "nbformat_minor": 5
}
