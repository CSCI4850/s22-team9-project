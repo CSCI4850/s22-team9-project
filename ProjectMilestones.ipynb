{
 "cells": [
  {
   "cell_type": "markdown",
   "id": "0b914f8a-5f30-441d-b0be-8381d567c709",
   "metadata": {},
   "source": [
    "## Team 9– Alcove: **Music Generation with Neural Networks**"
   ]
  },
  {
   "cell_type": "markdown",
   "id": "776421f7-609b-49ad-a53e-f58f8d080fde",
   "metadata": {},
   "source": [
    "**Group Members:**\n",
    "_Evan Kubick, Louis Lizzadro, Joseph May, Jason Miller, and Emily Musselman_"
   ]
  },
  {
   "cell_type": "markdown",
   "id": "dc67dc44-708d-4aab-aa7c-324a6ecc8c43",
   "metadata": {},
   "source": [
    "   "
   ]
  },
  {
   "cell_type": "markdown",
   "id": "a00cfa33-c7d5-4c44-9669-31cbbef2b09f",
   "metadata": {},
   "source": [
    "### **Project Milestone 1**\n",
    "3/14/2022"
   ]
  },
  {
   "cell_type": "markdown",
   "id": "52c07417-6630-451e-9816-4d58e175139d",
   "metadata": {},
   "source": [
    "| Deliverable | Percent Complete | Estimated Completion Date | Percent Complete by Next Milestone|\n",
    "|:----------- |:---------------- |:------------------------- |:--------------------------------- |\n",
    "| Code | 0% | Apr. 13 | 5% |\n",
    "| Demo | 0% | Apr. 22 | 0% |\n",
    "| Presentation | 0% | May 3 | 10% |"
   ]
  },
  {
   "cell_type": "markdown",
   "id": "b83577e4-8fa8-4a6c-a633-12a244e2ba4d",
   "metadata": {},
   "source": [
    "1. N/A - No goals were set for this milestone report. \n",
    "2. N/A - No goals were set for this milestone report. \n",
    "3. Before the next milestone report, Joesph will create a skeleton of the powerpoint for our presentation. Evan will research how to convert song data into a MIDI file format. Emily will perform data analysis on the existing found data sets and merge the seperate sets. Finally, the entirety of the team (Evan, Louis, Joseph, Jason, and Emily) will complete a keras tutorial on creating a Recurrent Neural Network to generate music and prepare for a meeting later in the week. "
   ]
  }
 ],
 "metadata": {
  "kernelspec": {
   "display_name": "Python 3 (ipykernel)",
   "language": "python",
   "name": "python3"
  },
  "language_info": {
   "codemirror_mode": {
    "name": "ipython",
    "version": 3
   },
   "file_extension": ".py",
   "mimetype": "text/x-python",
   "name": "python",
   "nbconvert_exporter": "python",
   "pygments_lexer": "ipython3",
   "version": "3.9.7"
  }
 },
 "nbformat": 4,
 "nbformat_minor": 5
}
