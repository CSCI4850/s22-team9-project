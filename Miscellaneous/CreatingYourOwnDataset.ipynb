{
 "cells": [
  {
   "cell_type": "markdown",
   "id": "54d6b242-bfb1-408e-a58b-bd6c3607cbbe",
   "metadata": {},
   "source": [
    "## Creating a dataset & converting files to MIDI:"
   ]
  },
  {
   "cell_type": "markdown",
   "id": "c02eb36b-6204-49d1-8a9d-3edc60f5bdc8",
   "metadata": {},
   "source": [
    "\n",
    "\n",
    "To begin with, this tutorial assumes songs will be downloaded from youtube as MP4s, converted to MP3s and then from MP3s to MIDI files. \n",
    "\n",
    "\n",
    "This tutorial uses the MiniTool Video Converter Tool and the MP3 to Midi website which can be found at these links: \n",
    "1. Minitool Video Converter - https://videoconvert.minitool.com/ \n",
    "2. MP3 to Midi - https://anyconv.com/mp3-to-midi-converter/\n",
    "\n",
    " \n",
    "If the process outlined here is not working, or is not feasable for you there are other ways to convert a file to MIDI type. For instance, if you have to music sheet for a song you can convert that information to MIDI filetype. These solutions are not explored in this demo, and will require research on your part should you wish to employ those options. Outside of free solutions there are a few music conversion tools you may choose from, which can take the form of downloadable software or subscription based web-services. Scan Score offers conveinant MIDI conversion and, as of writing this tutorial, a comprehensive free trial which you can use to do all your file conversions or test to see if that is a tool you would be willing to pay for. It can be found here https://scan-score.com/en/. This tutorial uses an entirely free process described below.  \n",
    "\n",
    "If you  would prefer to use already existing MIDI files and not create your own dataset there are a number of MIDI libraries out there which you may use for free to provide inputs and start training your network right away. The best libraries we were able to find were:\n",
    "\n",
    "1. Bitmidi - https://bitmidi.com/\n",
    "2. The Midi Archive - http://home.claranet.nl/users/fpieters/midipage.html\n",
    "3. Partners In Rhyme - https://www.partnersinrhyme.com/midi/index.shtml\n",
    "4. Instant Drum Patterns  - http://www.fivepinpress.com/drum_patterns.html\n",
    "5. Free Midi Drum Loops -  https://groovemonkee.com/pages/free-midi-loops\n",
    "6. Blues and Rock-n-Roll Drum Beats - https://www.prosonic-studios.com/midi-drum-beats/blues-and-rock-n-roll\n",
    "7. Metal Midi - http://metal-midi.grahamdowney.com/midi.html \n",
    "8. Midiworld - https://www.midiworld.com/\n",
    "9. Carlo's midi - https://www.cprato.com/en/midi/all\n",
    "10. Nonstop2k - https://www.nonstop2k.com/?sid=4be521bd9370621c0c83c9204bd4dcba\n",
    "\n",
    "Together these libraries offer a solid basis of midi files to begin training your network for music generation. If the files in those libraries do not fit your problem, or you have need for specific songs, you can follow these steps to convert files to MIDI off of youtube. \n",
    "\n"
   ]
  },
  {
   "cell_type": "markdown",
   "id": "a09d6226-70fe-4b14-9bc5-4df263e8fc8f",
   "metadata": {},
   "source": [
    "## Instructions"
   ]
  },
  {
   "cell_type": "markdown",
   "id": "721b637d-70b0-405d-9f4b-78fb220d6235",
   "metadata": {},
   "source": [
    "The following steps are how we downloaded the top pop songs for 2021 off of youtube and converted them to MIDI format. \n",
    "1. Download the MiniTool Video Converter. As of writing this tutorial, it is available for free at  https://videoconvert.minitool.com/ This is the tool we will use to download videos off of YouTube. It is a very easy tool to use, but please keep in mind that version updates to the tool, or alterations to terms and services may outdate this information.\n",
    "\n",
    "2. Open the MiniTool Video Converter \n",
    "\n",
    "3. Click the Video Download tab -- By default this tab will open up a YouTube window within the converter tool, if the files you wish to download are on another website, you can change the URL and navigate to that website.\n",
    "\n",
    "4. Use the YouTube window and search for the songs you wish, just as if you were using YouTube and not the converter tool. \n",
    "\n",
    "5. Select the video you want. \n",
    "It is imporant to note here that video slection can affect network performance. If you select Music Videos or other video versions that are not just audio of the song, extra information will be captured in the conversion process. For example, Michael Jackson's Thriller has a runtime of 3 minutes and 22 seconds, but the music video has a runtime of 13 minutes 43 seconds. If you were to download and convert the music video there will be 10 minutes and 35 seconds of unnecessary information endoded to the MIDI file. If you cannot get the officia audio files, ensure you are downloading good quality files for your purpose, otherwise the inputs to your network will contain junk information and lower your performance. \n",
    "        \n",
    "6. Click the download button. -- You will be offered a few different options for how to download the file such as mp3, mp4, and webm. You may select the best file type for your task, for this tutorial songs were downloaded as MP4s. \n",
    "\n",
    "7. Once you have downloaded all the songs you want, go to the video convert tab. Upload all the files you wish to convert.\n",
    "\n",
    "8. Make sure all files are being converted to MP3s and the quality is set to high quality conversion. Then hit the convert all button.\n",
    "\n",
    "9. Once all files have been converted to MP3s, go to the MP3 to MIDI converter website https://anyconv.com/mp3-to-midi-converter/, which will convert files to MIDI for free. \n",
    "\n",
    "10. Upload all the files you wish to convert, and select to convert to MIDI filetype, and hit the convert button. -- It might take some time to convert multiple files to MDID, and occasionally the website has trouble handling large batches of file conversions. We found that batches of 20 files at a time worked best. \n",
    "\n",
    "11. At this point you should have MIDI files of your choosing and have now created your own custom dataset to use with a neural network."
   ]
  }
 ],
 "metadata": {
  "kernelspec": {
   "display_name": "Python 3 (ipykernel)",
   "language": "python",
   "name": "python3"
  },
  "language_info": {
   "codemirror_mode": {
    "name": "ipython",
    "version": 3
   },
   "file_extension": ".py",
   "mimetype": "text/x-python",
   "name": "python",
   "nbconvert_exporter": "python",
   "pygments_lexer": "ipython3",
   "version": "3.9.7"
  }
 },
 "nbformat": 4,
 "nbformat_minor": 5
}
